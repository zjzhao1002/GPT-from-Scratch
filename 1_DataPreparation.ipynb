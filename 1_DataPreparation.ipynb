{
  "nbformat": 4,
  "nbformat_minor": 0,
  "metadata": {
    "colab": {
      "provenance": [],
      "authorship_tag": "ABX9TyOBV7GORSB0DLwOqo9dYPdO",
      "include_colab_link": true
    },
    "kernelspec": {
      "name": "python3",
      "display_name": "Python 3"
    },
    "language_info": {
      "name": "python"
    }
  },
  "cells": [
    {
      "cell_type": "markdown",
      "metadata": {
        "id": "view-in-github",
        "colab_type": "text"
      },
      "source": [
        "<a href=\"https://colab.research.google.com/github/zjzhao1002/GPT-from-Scratch/blob/main/1_DataPreparation.ipynb\" target=\"_parent\"><img src=\"https://colab.research.google.com/assets/colab-badge.svg\" alt=\"Open In Colab\"/></a>"
      ]
    },
    {
      "cell_type": "code",
      "execution_count": null,
      "metadata": {
        "id": "vGFaJnZ2X7CP"
      },
      "outputs": [],
      "source": [
        "!pip install -U -q datasets huggingface_hub fsspec"
      ]
    },
    {
      "cell_type": "code",
      "source": [
        "from datasets import load_dataset\n",
        "\n",
        "ds = load_dataset(\"wikimedia/wikipedia\", \"20231101.en\", split=\"train\", streaming=True)"
      ],
      "metadata": {
        "id": "eKEOwN8YY_bv"
      },
      "execution_count": null,
      "outputs": []
    },
    {
      "cell_type": "code",
      "source": [
        "ds_shuffle = ds.shuffle(seed=42, buffer_size=1000)"
      ],
      "metadata": {
        "id": "DPt018SXUPad"
      },
      "execution_count": null,
      "outputs": []
    },
    {
      "cell_type": "code",
      "source": [
        "ds_pretrain = ds_shuffle.take(200)"
      ],
      "metadata": {
        "id": "xvrDCBecfi04"
      },
      "execution_count": null,
      "outputs": []
    },
    {
      "cell_type": "code",
      "source": [
        "text_pretrain = \"\"\n",
        "for data in ds_pretrain:\n",
        "  text_pretrain += f\"### {data['title']} ###\\n\"+data['text']+\"\\n\\n\""
      ],
      "metadata": {
        "id": "Zwij6VfYWa5N"
      },
      "execution_count": null,
      "outputs": []
    },
    {
      "cell_type": "code",
      "source": [
        "len(text_pretrain)"
      ],
      "metadata": {
        "id": "FcKynfKaXmK5"
      },
      "execution_count": null,
      "outputs": []
    },
    {
      "cell_type": "code",
      "source": [
        "with open(\"text_pretrain.txt\", \"w\", encoding=\"utf-8\") as f:\n",
        "  f.write(text_pretrain)"
      ],
      "metadata": {
        "id": "xpO8-WmOXry3"
      },
      "execution_count": null,
      "outputs": []
    }
  ]
}